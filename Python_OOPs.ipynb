{
  "nbformat": 4,
  "nbformat_minor": 0,
  "metadata": {
    "colab": {
      "provenance": []
    },
    "kernelspec": {
      "name": "python3",
      "display_name": "Python 3"
    },
    "language_info": {
      "name": "python"
    }
  },
  "cells": [
    {
      "cell_type": "markdown",
      "source": [
        "#Python OOPs\n"
      ],
      "metadata": {
        "id": "6JNprSbqOKMA"
      }
    },
    {
      "cell_type": "markdown",
      "source": [
        "1.What is Object-Oriented Programming (OOP)?\n",
        "- Object-Oriented Programming (OOP) is a programming approach based on objects and classes, which groups data and functions together. It uses key concepts like encapsulation, inheritance, polymorphism, and abstraction to make code more modular, reusable, and easier to maintain.\n",
        "2. What is a class in OOP?\n",
        "- A class in OOP is a blueprint or template for creating objects. It defines the properties (attributes) and behaviors (methods) that the objects created from the class will have.\n",
        "3. What is an object in OOP?\n",
        "- A class in OOP is a blueprint or template for creating objects. It defines the properties (attributes) and behaviors (methods) that the objects created from the class will have.\n",
        "4.  What is the difference between abstraction and encapsulation?\n",
        "- **Difference between Abstraction and Encapsulation:**\n",
        "- **Abstraction** hides implementation details and shows only essential features to the user.\n",
        "- **Encapsulation** hides internal data by wrapping it with code and restricting direct access.\n",
        "5.  What are dunder methods in Python?\n",
        "- Dunder methods (short for \"double underscore\" methods) in Python are special predefined methods with names starting and ending with double underscores (e.g., __init__, __str__). They are used to define how objects behave with built-in functions and operators.\n",
        "6. Explain the concept of inheritance in OOP?\n",
        "- Inheritance in OOP is the concept where a child class (subclass) can inherit properties and methods from a parent class (superclass). It promotes code reusability and helps in creating a hierarchical relationship between classes.\n",
        "7. What is polymorphism in OOP?\n",
        "- Polymorphism in OOP means the ability of different classes to respond to the same method in different ways. It allows one interface to be used for different data types or class objects, enhancing flexibility and code reusability.\n",
        "8.  How is encapsulation achieved in Python?\n",
        "- Encapsulation in Python is achieved by restricting access to class variables and methods using:\n",
        "-**1.Private members:** Prefixing variable or method names with double underscores (__) makes them private.\n",
        "-**2.Getter and Setter methods:** Used to access and modify private data safely.\n",
        "9. What is a constructor in Python?\n",
        "- A constructor in Python is a special method called __init__() that is automatically executed when an object is created from a class. It is used to initialize the object’s attributes.\n",
        "10.  What are class and static methods in Python?\n",
        "- **Class methods** are methods that work with the class itself, not instances. They use @classmethod decorator and take cls as the first argument.\n",
        "- **Static methods** don’t access class or instance data. They use @staticmethod decorator and behave like regular functions within a class.\n",
        "11. What is method overloading in Python?\n",
        "- Method overloading in Python refers to defining multiple methods with the same name but different parameters. However, Python does not support true method overloading like some other languages. Instead, it can be achieved using default arguments or *args and **kwargs* to handle different numbers of arguments in a single method.\n",
        "12. What is method overriding in OOP?\n",
        "- Method overriding in OOP is when a child class provides a specific implementation of a method that is already defined in its parent class. It allows the child class to modify or extend the behavior of the inherited method.\n",
        "13. What is a property decorator in Python?\n",
        "- The @property decorator in Python is used to define getter methods that can be accessed like attributes. It allows a method to be accessed as if it were a variable, helping in encapsulation and controlled access to private data.\n",
        "14.  Why is polymorphism important in OOP?\n",
        "- Polymorphism is important in OOP because it allows the same interface or method to work with different types of objects, making code more flexible, scalable, and easier to maintain. It supports code reusability and dynamic behavior.\n",
        "15. What is an abstract class in Python?\n",
        "- An abstract class in Python is a class that cannot be instantiated directly and is meant to be inherited by other classes. It can have abstract methods (methods without implementation) that must be defined in child classes.\n",
        "16.What are the advantages of OOP?\n",
        "- **Advantages of Object-Oriented Programming (OOP):**\n",
        "- **1.Modularity** - Code is organized into classes and objects, making it easier to manage.\n",
        "- **2.Reusability** - Inheritance allows code reuse across multiple classes.\n",
        "- **3.Scalability** - Easier to add new features without affecting existing code.\n",
        "- **4.Maintainability** - Clear structure makes debugging and updating code simpler.\n",
        "- **5.Data Security** - Encapsulation protects data from unauthorized access.\n",
        "- **6.Flexibility** - Polymorphism allows different implementations with a common interface.\n",
        "17. What is the difference between a class variable and an instance variable?\n",
        "- **Difference between Class Variable and Instance Variable:**\n",
        "- **Class Variable:** Shared by all objects of the class. Defined inside the class but outside any method.\n",
        "- **Instance Variable:** Unique to each object. Defined inside methods using self.\n",
        "18. What is multiple inheritance in Python?\n",
        "- Multiple inheritance in Python is a feature where a class can inherit from more than one parent class. This allows the child class to access attributes and methods of all parent classes.\n",
        "- Python supports multiple inheritance using commas between parent class names in the class definition.\n",
        "19.  Explain the purpose of ‘’__str__’ and ‘__repr__’ ‘ methods in Python?\n",
        "- __str__ and __repr__ are special (dunder) methods in Python used to define how an object is represented as a string:\n",
        "- **__str__:** Returns a user-friendly string representation of the object. Used by print() or str().\n",
        "- __repr__: Returns a developer-friendly and unambiguous string, often useful for debugging. Used by repr().\n",
        "20. What is the significance of the ‘super()’ function in Python?\n",
        "- The **`super()`** function in Python is used to **call methods from the parent class**. It is commonly used in **inheritance** to access the parent class’s methods without explicitly naming it, helping to **reuse code** and support **method overriding**.\n",
        "21.  What is the significance of the __del__ method in Python?\n",
        "- The __del__ method in Python is a special method called a destructor. It is automatically invoked when an object is about to be destroyed, and is used to clean up resources like closing files or releasing memory.\n",
        "22. What is the difference between @staticmethod and @classmethod in Python?\n",
        "- **Difference between @staticmethod and @classmethod:**\n",
        "- **@staticmethod:** Does not take self or cls as a parameter. It behaves like a regular function but belongs to the class's namespace. It cannot access class or instance variables.\n",
        "- **@classmethod:** Takes cls as the first parameter and can access or modify class-level variables. It works with the class, not specific instances.\n",
        "23. How does polymorphism work in Python with inheritance?\n",
        "- Polymorphism with inheritance in Python allows a child class to override methods from the parent class, so the same method name can behave differently based on the object calling it.\n",
        "- This enables writing generic code that works with different classes, enhancing flexibility and code reusability.\n",
        "24. What is method chaining in Python OOP?\n",
        "- Method chaining in Python OOP is a technique where multiple methods are called on the same object in a single line, one after another. This is done by returning self at the end of each method.\n",
        "25. What is the purpose of the __call__ method in Python?\n",
        "- The __call__ method in Python allows an object to be called like a function. When defined in a class, it lets instances of that class behave like functions using object() syntax. It is used to create callable objects.\n",
        "\n",
        "\n",
        "###Practical Questions\n",
        "1. Create a parent class Animal with a method speak() that prints a generic message. Create a child class Dog\n",
        "that overrides the speak() method to print \"Bark!\".\n",
        "\n",
        "\n",
        "\n",
        "\n",
        "\n",
        "\n",
        "\n",
        "\n",
        "\n",
        "\n",
        "\n",
        "\n",
        "\n",
        "\n",
        "\n",
        "\n",
        "\n",
        "\n",
        "\n",
        "\n",
        "\n",
        "\n",
        "\n",
        "\n",
        "\n",
        "\n",
        "\n",
        "\n",
        "\n",
        "\n",
        "\n",
        "\n",
        "\n",
        "\n",
        "\n",
        "\n",
        "\n",
        "\n",
        "\n",
        "\n",
        "\n",
        "\n",
        "\n",
        "\n",
        "\n",
        "\n",
        "\n",
        "\n",
        "\n",
        "\n",
        "\n",
        "\n",
        "\n",
        "\n",
        "\n",
        "\n",
        "\n",
        "\n",
        "\n",
        "\n",
        "\n",
        "\n",
        "\n",
        "\n",
        "\n",
        "\n",
        "\n",
        "\n",
        "\n",
        "\n",
        "\n",
        "\n",
        "\n",
        "\n",
        "\n",
        "\n",
        "\n",
        "\n",
        "\n",
        "\n",
        "\n",
        "\n",
        "\n",
        "\n",
        "\n",
        "\n",
        "\n",
        "\n",
        "\n",
        "\n",
        "\n",
        "\n",
        "\n",
        "\n",
        "\n",
        "\n",
        "\n",
        "\n",
        "\n",
        "\n",
        "\n",
        "\n",
        "\n",
        "\n",
        "\n",
        "\n",
        "\n",
        "\n",
        "\n",
        "\n",
        "\n",
        "\n",
        "\n",
        "\n",
        "\n",
        "\n",
        "\n",
        "\n",
        "\n",
        "\n",
        "\n",
        "\n",
        "\n",
        "\n",
        "\n",
        "\n",
        "\n",
        "\n",
        "\n",
        "\n",
        "\n",
        "\n",
        "\n",
        "\n",
        "\n",
        "\n",
        "\n",
        "\n",
        "\n",
        "\n",
        "\n",
        "\n",
        "\n",
        "\n",
        "\n",
        "\n",
        "\n",
        "\n",
        "\n",
        "\n",
        "\n",
        "\n",
        "\n",
        "\n",
        "\n",
        "\n",
        "\n",
        "\n",
        "\n",
        "\n",
        "\n",
        "\n",
        "\n",
        "\n",
        "\n",
        "\n",
        "\n",
        "\n",
        "\n",
        "\n",
        "\n",
        "\n",
        "\n",
        "\n",
        "\n",
        "\n",
        "\n",
        "\n",
        "\n",
        "\n",
        "\n",
        "\n",
        "\n",
        "\n",
        "\n",
        "\n",
        "\n",
        "\n",
        "\n",
        "\n",
        "\n",
        "\n",
        "\n",
        "\n",
        "\n",
        "\n",
        "\n",
        "\n",
        "\n",
        "\n",
        "\n",
        "\n",
        "\n",
        "\n",
        "\n",
        "\n",
        "\n",
        "\n",
        "\n",
        "\n",
        "\n",
        "\n",
        "\n",
        "\n",
        "\n",
        "\n"
      ],
      "metadata": {
        "id": "Yy3xoM1sOmqK"
      }
    },
    {
      "cell_type": "code",
      "source": [
        "class Animal:\n",
        "    def speak(self):\n",
        "        print(\"The animal makes a sound.\")\n",
        "\n",
        "class Dog(Animal):\n",
        "    def speak(self):\n",
        "        print(\"Bark!\")\n",
        "\n",
        "# Creating objects\n",
        "a = Animal()\n",
        "d = Dog()\n",
        "\n",
        "# Calling methods\n",
        "a.speak()\n",
        "d.speak()\n",
        "\n",
        "\n"
      ],
      "metadata": {
        "colab": {
          "base_uri": "https://localhost:8080/"
        },
        "id": "-CTA1D2DgBNp",
        "outputId": "fdb89510-af98-46a5-f7fa-0e4d995e0c85"
      },
      "execution_count": 8,
      "outputs": [
        {
          "output_type": "stream",
          "name": "stdout",
          "text": [
            "The animal makes a sound.\n",
            "Bark!\n"
          ]
        }
      ]
    },
    {
      "cell_type": "markdown",
      "source": [
        "2. Write a program to create an abstract class Shape with a method area(). Derive classes Circle and Rectangle\n",
        "from it and implement the area() method in both."
      ],
      "metadata": {
        "id": "65INELQ7givw"
      }
    },
    {
      "cell_type": "code",
      "source": [
        "from abc import ABC, abstractmethod\n",
        "\n",
        "# Abstract class\n",
        "class Shape(ABC):\n",
        "    @abstractmethod\n",
        "    def area(self):\n",
        "        pass\n",
        "\n",
        "# Circle class\n",
        "class Circle(Shape):\n",
        "    def __init__(self, r):\n",
        "        self.r = r\n",
        "\n",
        "    def area(self):\n",
        "        return 3.14 * self.r * self.r\n",
        "\n",
        "# Rectangle class\n",
        "class Rectangle(Shape):\n",
        "    def __init__(self, l, w):\n",
        "        self.l = l\n",
        "        self.w = w\n",
        "\n",
        "    def area(self):\n",
        "        return self.l * self.w\n",
        "\n",
        "# Create objects\n",
        "c = Circle(3)\n",
        "r = Rectangle(4, 5)\n",
        "\n",
        "print(\"Circle area:\", c.area())\n",
        "print(\"Rectangle area:\", r.area())\n"
      ],
      "metadata": {
        "colab": {
          "base_uri": "https://localhost:8080/"
        },
        "id": "QBRh4_Trgr5y",
        "outputId": "707414cc-2abb-43be-def7-aaf1e52d5cc0"
      },
      "execution_count": 9,
      "outputs": [
        {
          "output_type": "stream",
          "name": "stdout",
          "text": [
            "Circle area: 28.259999999999998\n",
            "Rectangle area: 20\n"
          ]
        }
      ]
    },
    {
      "cell_type": "markdown",
      "source": [
        "3. Implement a multi-level inheritance scenario where a class Vehicle has an attribute type. Derive a class Car\n",
        "and further derive a class ElectricCar that adds a battery attribute."
      ],
      "metadata": {
        "id": "fWnIAhGNg5XA"
      }
    },
    {
      "cell_type": "code",
      "source": [
        "# Base class\n",
        "class Vehicle:\n",
        "    def __init__(self, type):\n",
        "        self.type = type\n",
        "\n",
        "# Derived class from Vehicle\n",
        "class Car(Vehicle):\n",
        "    def __init__(self, type, brand):\n",
        "        super().__init__(type)\n",
        "        self.brand = brand\n",
        "\n",
        "# Derived class from Car\n",
        "class ElectricCar(Car):\n",
        "    def __init__(self, type, brand, battery):\n",
        "        super().__init__(type, brand)\n",
        "        self.battery = battery\n",
        "\n",
        "    def display(self):\n",
        "        print(\"Type:\", self.type)\n",
        "        print(\"Brand:\", self.brand)\n",
        "        print(\"Battery:\", self.battery)\n",
        "\n",
        "# Create object\n",
        "e_car = ElectricCar(\"Four Wheeler\", \"Tesla\", \"75 kWh\")\n",
        "e_car.display()\n"
      ],
      "metadata": {
        "colab": {
          "base_uri": "https://localhost:8080/"
        },
        "id": "8w1FtjEMhFyg",
        "outputId": "30706b43-3ee4-489b-be9d-c43eb28508cf"
      },
      "execution_count": 10,
      "outputs": [
        {
          "output_type": "stream",
          "name": "stdout",
          "text": [
            "Type: Four Wheeler\n",
            "Brand: Tesla\n",
            "Battery: 75 kWh\n"
          ]
        }
      ]
    },
    {
      "cell_type": "markdown",
      "source": [
        "4. Demonstrate polymorphism by creating a base class Bird with a method fly(). Create two derived classes\n",
        "Sparrow and Penguin that override the fly() method.\n"
      ],
      "metadata": {
        "id": "GohhX0uNhNiu"
      }
    },
    {
      "cell_type": "code",
      "source": [
        "# Base class\n",
        "class Bird:\n",
        "    def fly(self):\n",
        "        print(\"Some birds can fly.\")\n",
        "\n",
        "# Derived class\n",
        "class Sparrow(Bird):\n",
        "    def fly(self):\n",
        "        print(\"Sparrow flies high in the sky.\")\n",
        "\n",
        "# Derived class\n",
        "class Penguin(Bird):\n",
        "    def fly(self):\n",
        "        print(\"Penguins cannot fly.\")\n",
        "\n",
        "# Polymorphism in action\n",
        "birds = [Sparrow(), Penguin()]\n",
        "\n",
        "for bird in birds:\n",
        "    bird.fly()\n"
      ],
      "metadata": {
        "colab": {
          "base_uri": "https://localhost:8080/"
        },
        "id": "utw0GuEmhddM",
        "outputId": "e9acf8cc-4a0f-45d1-c4a9-45df16052b6b"
      },
      "execution_count": 11,
      "outputs": [
        {
          "output_type": "stream",
          "name": "stdout",
          "text": [
            "Sparrow flies high in the sky.\n",
            "Penguins cannot fly.\n"
          ]
        }
      ]
    },
    {
      "cell_type": "markdown",
      "source": [
        "5. Write a program to demonstrate encapsulation by creating a class BankAccount with private attributes\n",
        "balance and methods to deposit, withdraw, and check balance."
      ],
      "metadata": {
        "id": "BPGBfoIdhmzO"
      }
    },
    {
      "cell_type": "code",
      "source": [
        "class BankAccount:\n",
        "    def __init__(self):\n",
        "        self.__balance = 0  # Private attribute\n",
        "\n",
        "    def deposit(self, amount):\n",
        "        if amount > 0:\n",
        "            self.__balance += amount\n",
        "            print(\"Deposited:\", amount)\n",
        "\n",
        "    def withdraw(self, amount):\n",
        "        if amount <= self.__balance:\n",
        "            self.__balance -= amount\n",
        "            print(\"Withdrawn:\", amount)\n",
        "        else:\n",
        "            print(\"Insufficient balance!\")\n",
        "\n",
        "    def check_balance(self):\n",
        "        print(\"Current Balance:\", self.__balance)\n",
        "\n",
        "# Create account object\n",
        "acc = BankAccount()\n",
        "\n",
        "# Perform actions\n",
        "acc.deposit(1000)\n",
        "acc.withdraw(500)\n",
        "acc.check_balance()\n"
      ],
      "metadata": {
        "colab": {
          "base_uri": "https://localhost:8080/"
        },
        "id": "beO054m1hujU",
        "outputId": "66576384-f607-4fed-8943-d6501ae40df8"
      },
      "execution_count": 12,
      "outputs": [
        {
          "output_type": "stream",
          "name": "stdout",
          "text": [
            "Deposited: 1000\n",
            "Withdrawn: 500\n",
            "Current Balance: 500\n"
          ]
        }
      ]
    },
    {
      "cell_type": "markdown",
      "source": [
        "6. Demonstrate runtime polymorphism using a method play() in a base class Instrument. Derive classes Guitar\n",
        "and Piano that implement their own version of play()."
      ],
      "metadata": {
        "id": "ogjmezvKh1mn"
      }
    },
    {
      "cell_type": "code",
      "source": [
        "# Base class\n",
        "class Instrument:\n",
        "    def play(self):\n",
        "        print(\"Instrument is playing...\")\n",
        "\n",
        "# Derived class\n",
        "class Guitar(Instrument):\n",
        "    def play(self):\n",
        "        print(\"Guitar is strumming...\")\n",
        "\n",
        "# Derived class\n",
        "class Piano(Instrument):\n",
        "    def play(self):\n",
        "        print(\"Piano is playing...\")\n",
        "\n",
        "# Polymorphism in action\n",
        "instruments = [Guitar(), Piano()]\n",
        "\n",
        "for inst in instruments:\n",
        "    inst.play()\n"
      ],
      "metadata": {
        "colab": {
          "base_uri": "https://localhost:8080/"
        },
        "id": "mj-DygN2iD2f",
        "outputId": "3273c8b9-6cd7-40df-8375-ffc30c4f6432"
      },
      "execution_count": 13,
      "outputs": [
        {
          "output_type": "stream",
          "name": "stdout",
          "text": [
            "Guitar is strumming...\n",
            "Piano is playing...\n"
          ]
        }
      ]
    },
    {
      "cell_type": "markdown",
      "source": [
        "7. Create a class MathOperations with a class method add_numbers() to add two numbers and a static\n",
        "method subtract_numbers() to subtract two numbers.\n",
        "\n",
        "\n"
      ],
      "metadata": {
        "id": "23F6WMotiJ-s"
      }
    },
    {
      "cell_type": "code",
      "source": [
        "class MathOperations:\n",
        "\n",
        "    @classmethod\n",
        "    def add_numbers(cls, a, b):\n",
        "        return a + b\n",
        "\n",
        "    @staticmethod\n",
        "    def subtract_numbers(a, b):\n",
        "        return a - b\n",
        "\n",
        "# Using class method\n",
        "print(\"Addition:\", MathOperations.add_numbers(10, 5))\n",
        "\n",
        "# Using static method\n",
        "print(\"Subtraction:\", MathOperations.subtract_numbers(10, 5))\n"
      ],
      "metadata": {
        "colab": {
          "base_uri": "https://localhost:8080/"
        },
        "id": "N_wfBSDkidh8",
        "outputId": "f798df1f-b183-4ca8-b0ac-df9ff434a976"
      },
      "execution_count": 14,
      "outputs": [
        {
          "output_type": "stream",
          "name": "stdout",
          "text": [
            "Addition: 15\n",
            "Subtraction: 5\n"
          ]
        }
      ]
    },
    {
      "cell_type": "markdown",
      "source": [
        "8. Implement a class Person with a class method to count the total number of persons created."
      ],
      "metadata": {
        "id": "Fpl4kZ5eikZi"
      }
    },
    {
      "cell_type": "code",
      "source": [
        "class Person:\n",
        "    count = 0  # Class variable\n",
        "\n",
        "    def __init__(self, name):\n",
        "        self.name = name\n",
        "        Person.count += 1\n",
        "\n",
        "    @classmethod\n",
        "    def total_persons(cls):\n",
        "        return cls.count\n",
        "\n",
        "# Create Person objects\n",
        "p1 = Person(\"Alice\")\n",
        "p2 = Person(\"Bob\")\n",
        "p3 = Person(\"Charlie\")\n",
        "\n",
        "# Get total persons created\n",
        "print(\"Total persons created:\", Person.total_persons())\n"
      ],
      "metadata": {
        "colab": {
          "base_uri": "https://localhost:8080/"
        },
        "id": "zRdL5S6EircD",
        "outputId": "911d3493-5f67-46ac-8de6-d56c07279ef2"
      },
      "execution_count": 15,
      "outputs": [
        {
          "output_type": "stream",
          "name": "stdout",
          "text": [
            "Total persons created: 3\n"
          ]
        }
      ]
    },
    {
      "cell_type": "markdown",
      "source": [
        "9. Write a class Fraction with attributes numerator and denominator. Override the str method to display the\n",
        "fraction as \"numerator/denominator\"."
      ],
      "metadata": {
        "id": "j6lhjYjEiyed"
      }
    },
    {
      "cell_type": "code",
      "source": [
        "class Fraction:\n",
        "    def __init__(self, numerator, denominator):\n",
        "        self.numerator = numerator\n",
        "        self.denominator = denominator\n",
        "\n",
        "    def __str__(self):\n",
        "        return f\"{self.numerator}/{self.denominator}\"\n",
        "\n",
        "# Create object\n",
        "f = Fraction(3, 4)\n",
        "print(f)  # Output: 3/4\n"
      ],
      "metadata": {
        "colab": {
          "base_uri": "https://localhost:8080/"
        },
        "id": "VEmAWQtLjBlA",
        "outputId": "e062881a-2c1d-419c-94cb-0e7e4016a415"
      },
      "execution_count": 16,
      "outputs": [
        {
          "output_type": "stream",
          "name": "stdout",
          "text": [
            "3/4\n"
          ]
        }
      ]
    },
    {
      "cell_type": "markdown",
      "source": [
        "10. Demonstrate operator overloading by creating a class Vector and overriding the add method to add two\n",
        "vectors."
      ],
      "metadata": {
        "id": "pHlxbAd9jHQk"
      }
    },
    {
      "cell_type": "code",
      "source": [
        "class Vector:\n",
        "    def __init__(self, x, y):\n",
        "        self.x = x\n",
        "        self.y = y\n",
        "\n",
        "    def __add__(self, other):\n",
        "        return Vector(self.x + other.x, self.y + other.y)\n",
        "\n",
        "    def __str__(self):\n",
        "        return f\"({self.x}, {self.y})\"\n",
        "\n",
        "# Create vector objects\n",
        "v1 = Vector(2, 3)\n",
        "v2 = Vector(4, 5)\n",
        "\n",
        "# Add vectors using +\n",
        "v3 = v1 + v2\n",
        "print(\"Resultant Vector:\", v3)  # Output: (6, 8)\n"
      ],
      "metadata": {
        "colab": {
          "base_uri": "https://localhost:8080/"
        },
        "id": "CTmgMk0ajVP5",
        "outputId": "e86228e7-23f9-4d7d-cb5c-bb5ecab33770"
      },
      "execution_count": 17,
      "outputs": [
        {
          "output_type": "stream",
          "name": "stdout",
          "text": [
            "Resultant Vector: (6, 8)\n"
          ]
        }
      ]
    },
    {
      "cell_type": "markdown",
      "source": [
        "11. Create a class Person with attributes name and age. Add a method greet() that prints \"Hello, my name is\n",
        "{name} and I am {age} years old.\"\n",
        "\n",
        "\n"
      ],
      "metadata": {
        "id": "Ta_dP1Dmjb1Z"
      }
    },
    {
      "cell_type": "code",
      "source": [
        "class Person:\n",
        "    def __init__(self, name, age):\n",
        "        self.name = name\n",
        "        self.age = age\n",
        "\n",
        "    def greet(self):\n",
        "        print(f\"Hello, my name is {self.name} and I am {self.age} years old.\")\n",
        "\n",
        "# Create object\n",
        "p = Person(\"Gandhi\", 25)\n",
        "p.greet()\n"
      ],
      "metadata": {
        "colab": {
          "base_uri": "https://localhost:8080/"
        },
        "id": "xGUeEXVkjuR8",
        "outputId": "6901e8fa-f415-4dd6-dad7-b45410d28bb1"
      },
      "execution_count": 18,
      "outputs": [
        {
          "output_type": "stream",
          "name": "stdout",
          "text": [
            "Hello, my name is Gandhi and I am 25 years old.\n"
          ]
        }
      ]
    },
    {
      "cell_type": "markdown",
      "source": [
        "12. Implement a class Student with attributes name and grades. Create a method average_grade() to compute\n",
        "the average of the grades"
      ],
      "metadata": {
        "id": "AYoL7_T5j4p-"
      }
    },
    {
      "cell_type": "code",
      "source": [
        "class Student:\n",
        "    def __init__(self, name, grades):\n",
        "        self.name = name\n",
        "        self.grades = grades  # List of grades\n",
        "\n",
        "    def average_grade(self):\n",
        "        return sum(self.grades) / len(self.grades)\n",
        "\n",
        "# Create object\n",
        "s = Student(\"Gandhi\", [85, 90, 78, 92])\n",
        "\n",
        "# Print average grade\n",
        "print(\"Average Grade:\", s.average_grade())\n"
      ],
      "metadata": {
        "colab": {
          "base_uri": "https://localhost:8080/"
        },
        "id": "-fPf3rzij_Ui",
        "outputId": "5fe9ff56-e89b-453b-d318-16b3b4880373"
      },
      "execution_count": 19,
      "outputs": [
        {
          "output_type": "stream",
          "name": "stdout",
          "text": [
            "Average Grade: 86.25\n"
          ]
        }
      ]
    },
    {
      "cell_type": "markdown",
      "source": [
        "13. Create a class Rectangle with methods set_dimensions() to set the dimensions and area() to calculate the area.\n"
      ],
      "metadata": {
        "id": "YqylQVoUkIjS"
      }
    },
    {
      "cell_type": "code",
      "source": [
        "class Rectangle:\n",
        "    def set_dimensions(self, length, width):\n",
        "        self.length = length\n",
        "        self.width = width\n",
        "\n",
        "    def area(self):\n",
        "        return self.length * self.width\n",
        "\n",
        "# Create object\n",
        "rect = Rectangle()\n",
        "rect.set_dimensions(5, 3)\n",
        "\n",
        "# Print area\n",
        "print(\"Area of Rectangle:\", rect.area())\n"
      ],
      "metadata": {
        "colab": {
          "base_uri": "https://localhost:8080/"
        },
        "id": "EO0U94OfkdE1",
        "outputId": "5e7686d5-5321-4b0b-b4d0-4e472e0a7f1a"
      },
      "execution_count": 20,
      "outputs": [
        {
          "output_type": "stream",
          "name": "stdout",
          "text": [
            "Area of Rectangle: 15\n"
          ]
        }
      ]
    },
    {
      "cell_type": "markdown",
      "source": [
        "14. Create a class Employee with a method calculate_salary() that computes the salary based on hours worked\n",
        "and hourly rate. Create a derived class Manager that adds a bonus to the salary."
      ],
      "metadata": {
        "id": "6w0pYHXekmFY"
      }
    },
    {
      "cell_type": "code",
      "source": [
        "# Base class\n",
        "class Employee:\n",
        "    def __init__(self, hours, rate):\n",
        "        self.hours = hours\n",
        "        self.rate = rate\n",
        "\n",
        "    def calculate_salary(self):\n",
        "        return self.hours * self.rate\n",
        "\n",
        "# Derived class\n",
        "class Manager(Employee):\n",
        "    def __init__(self, hours, rate, bonus):\n",
        "        super().__init__(hours, rate)\n",
        "        self.bonus = bonus\n",
        "\n",
        "    def calculate_salary(self):\n",
        "        return super().calculate_salary() + self.bonus\n",
        "\n",
        "# Create objects\n",
        "emp = Employee(40, 200)\n",
        "mgr = Manager(40, 200, 5000)\n",
        "\n",
        "# Print salaries\n",
        "print(\"Employee Salary:\", emp.calculate_salary())\n",
        "print(\"Manager Salary:\", mgr.calculate_salary())\n"
      ],
      "metadata": {
        "colab": {
          "base_uri": "https://localhost:8080/"
        },
        "id": "tm5XRyzlk36W",
        "outputId": "cad59e43-0ea0-4f4b-9269-e0ba1d0908ef"
      },
      "execution_count": 21,
      "outputs": [
        {
          "output_type": "stream",
          "name": "stdout",
          "text": [
            "Employee Salary: 8000\n",
            "Manager Salary: 13000\n"
          ]
        }
      ]
    },
    {
      "cell_type": "markdown",
      "source": [
        "15. Create a class Product with attributes name, price, and quantity. Implement a method total_price() that\n",
        "calculates the total price of the product.\n",
        "\n",
        "\n"
      ],
      "metadata": {
        "id": "85pax8UdlTPG"
      }
    },
    {
      "cell_type": "code",
      "source": [
        "class Product:\n",
        "    def __init__(self, name, price, quantity):\n",
        "        self.name = name\n",
        "        self.price = price\n",
        "        self.quantity = quantity\n",
        "\n",
        "    def total_price(self):\n",
        "        return self.price * self.quantity\n",
        "\n",
        "# Create object\n",
        "p = Product(\"Laptop\", 50000, 2)\n",
        "\n",
        "# Print total price\n",
        "print(\"Total Price:\", p.total_price())\n"
      ],
      "metadata": {
        "colab": {
          "base_uri": "https://localhost:8080/"
        },
        "id": "NLeeKX31lZbH",
        "outputId": "a3d8aab9-f41f-44ce-d755-1bb3f0d35ffa"
      },
      "execution_count": 22,
      "outputs": [
        {
          "output_type": "stream",
          "name": "stdout",
          "text": [
            "Total Price: 100000\n"
          ]
        }
      ]
    },
    {
      "cell_type": "markdown",
      "source": [
        "16. Create a class Animal with an abstract method sound(). Create two derived classes Cow and Sheep that\n",
        "implement the sound() method."
      ],
      "metadata": {
        "id": "x4Qp2Y48liv8"
      }
    },
    {
      "cell_type": "code",
      "source": [
        "from abc import ABC, abstractmethod\n",
        "\n",
        "# Abstract base class\n",
        "class Animal(ABC):\n",
        "    @abstractmethod\n",
        "    def sound(self):\n",
        "        pass\n",
        "\n",
        "# Derived class\n",
        "class Cow(Animal):\n",
        "    def sound(self):\n",
        "        print(\"Cow says Moo\")\n",
        "\n",
        "# Derived class\n",
        "class Sheep(Animal):\n",
        "    def sound(self):\n",
        "        print(\"Sheep says Baa\")\n",
        "\n",
        "# Create objects\n",
        "c = Cow()\n",
        "s = Sheep()\n",
        "\n",
        "# Call sound method\n",
        "c.sound()\n",
        "s.sound()\n"
      ],
      "metadata": {
        "colab": {
          "base_uri": "https://localhost:8080/"
        },
        "id": "S6smjSqmlrSy",
        "outputId": "7303b057-6887-4d06-90a1-c68991202aba"
      },
      "execution_count": 23,
      "outputs": [
        {
          "output_type": "stream",
          "name": "stdout",
          "text": [
            "Cow says Moo\n",
            "Sheep says Baa\n"
          ]
        }
      ]
    },
    {
      "cell_type": "markdown",
      "source": [
        "17. Create a class Book with attributes title, author, and year_published. Add a method get_book_info() that\n",
        "returns a formatted string with the book's details.\n",
        "\n",
        "\n"
      ],
      "metadata": {
        "id": "JVw9KleKl0tg"
      }
    },
    {
      "cell_type": "code",
      "source": [
        "class Book:\n",
        "    def __init__(self, title, author, year_published):\n",
        "        self.title = title\n",
        "        self.author = author\n",
        "        self.year_published = year_published\n",
        "\n",
        "    def get_book_info(self):\n",
        "        return f\"'{self.title}' by {self.author}, published in {self.year_published}\"\n",
        "\n",
        "# Create object\n",
        "b = Book(\"Wings of Fire\", \"A.P.J. Abdul Kalam\", 1999)\n",
        "\n",
        "# Print book info\n",
        "print(b.get_book_info())\n"
      ],
      "metadata": {
        "colab": {
          "base_uri": "https://localhost:8080/"
        },
        "id": "fhR4y9vtl6A3",
        "outputId": "b084fb99-f854-404a-85c3-d33cdb1c587c"
      },
      "execution_count": 24,
      "outputs": [
        {
          "output_type": "stream",
          "name": "stdout",
          "text": [
            "'Wings of Fire' by A.P.J. Abdul Kalam, published in 1999\n"
          ]
        }
      ]
    },
    {
      "cell_type": "markdown",
      "source": [
        "18. Create a class House with attributes address and price. Create a derived class Mansion that adds an\n",
        "attribute number_of_rooms."
      ],
      "metadata": {
        "id": "cXRz_7UlmGxC"
      }
    },
    {
      "cell_type": "code",
      "source": [
        "# Base class\n",
        "class House:\n",
        "    def __init__(self, address, price):\n",
        "        self.address = address\n",
        "        self.price = price\n",
        "\n",
        "# Derived class\n",
        "class Mansion(House):\n",
        "    def __init__(self, address, price, number_of_rooms):\n",
        "        super().__init__(address, price)\n",
        "        self.number_of_rooms = number_of_rooms\n",
        "\n",
        "# Create object\n",
        "m = Mansion(\"123 Luxury Lane\", 50000000, 10)\n",
        "\n",
        "# Display info\n",
        "print(\"Address:\", m.address)\n",
        "print(\"Price:\", m.price)\n",
        "print(\"Number of Rooms:\", m.number_of_rooms)\n"
      ],
      "metadata": {
        "colab": {
          "base_uri": "https://localhost:8080/"
        },
        "id": "P3TN1MP6mPXK",
        "outputId": "232f8eb5-6b78-4e24-af86-f6cbe464f2aa"
      },
      "execution_count": 25,
      "outputs": [
        {
          "output_type": "stream",
          "name": "stdout",
          "text": [
            "Address: 123 Luxury Lane\n",
            "Price: 50000000\n",
            "Number of Rooms: 10\n"
          ]
        }
      ]
    }
  ]
}